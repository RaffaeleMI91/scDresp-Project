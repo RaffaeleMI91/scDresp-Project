{
 "cells": [
  {
   "cell_type": "code",
   "execution_count": 1,
   "id": "9446f789",
   "metadata": {},
   "outputs": [
    {
     "name": "stderr",
     "output_type": "stream",
     "text": [
      "/tmp/ipykernel_3827081/1701034591.py:8: DeprecationWarning: Importing display from IPython.core.display is deprecated since IPython 7.14, please import from IPython display\n",
      "  from IPython.core.display import display, HTML\n"
     ]
    }
   ],
   "source": [
    "import numpy as np\n",
    "import pandas as pd\n",
    "import matplotlib.pyplot as plt\n",
    "import scanpy as sc\n",
    "import seaborn as sns\n",
    "import os\n",
    "import matplotlib.colors as clrs\n",
    "from IPython.core.display import display, HTML\n",
    "import anndata\n",
    "from sklearn.metrics import silhouette_score\n",
    "from joblib import parallel_backend\n",
    "import math\n",
    "import re\n",
    "import pickle"
   ]
  },
  {
   "cell_type": "code",
   "execution_count": 2,
   "id": "4ddc1ce9",
   "metadata": {},
   "outputs": [],
   "source": [
    "gdscat2=pd.read_csv(\"/group/iorio/Raffaele/SCDRESP_data/data/gdsc/GDSCatSquare-009_matrix_results.csv\")\n",
    "gdsc=pd.read_excel(\"/group/iorio/Raffaele/SCDRESP_data/data/gdsc/GDSC2_fitted_dose_response.xlsx\")\n",
    "gdsc.rename(columns={\"SANGER_MODEL_ID\":\"SangerModelID\"},inplace=True)\n",
    "gex=pd.read_csv(\"/group/iorio/Raffaele/SCDRESP_data/data/ccle/OmicsExpressionProteinCodingGenesTPMLogp1BatchCorrected.csv\",index_col=0)\n",
    "genes=[re.sub(r\"\\s*\\(.*?\\)\", \"\", gene) for gene in gex.columns]\n",
    "gex.columns=genes\n",
    "gex=gex.reset_index().rename(columns={\"index\":\"ModelID\"})"
   ]
  },
  {
   "cell_type": "code",
   "execution_count": 3,
   "id": "1be9ee1e",
   "metadata": {},
   "outputs": [],
   "source": [
    "model_broad=pd.read_csv(\"/group/iorio/Raffaele/SCDRESP_data/data/Model.csv\")\n",
    "model_broad=model_broad[[\"ModelID\",\"SangerModelID\",\"OncotreeSubtype\",\"COSMICID\",\"OncotreeLineage\"]]"
   ]
  },
  {
   "cell_type": "code",
   "execution_count": 4,
   "id": "5822163a",
   "metadata": {},
   "outputs": [],
   "source": [
    "gex_extended = gex.merge(model_broad, on=\"ModelID\", how=\"left\")"
   ]
  },
  {
   "cell_type": "code",
   "execution_count": 5,
   "id": "3ca7fb04",
   "metadata": {},
   "outputs": [],
   "source": [
    "gex = gex_extended.iloc[:,1:-4]"
   ]
  },
  {
   "cell_type": "code",
   "execution_count": 6,
   "id": "493c2e0c",
   "metadata": {},
   "outputs": [],
   "source": [
    "gex.index = gex_extended[\"SangerModelID\"].values"
   ]
  },
  {
   "cell_type": "code",
   "execution_count": 7,
   "id": "cb006bdd",
   "metadata": {},
   "outputs": [],
   "source": [
    "gex[\"SangerModelID\"] = gex.index"
   ]
  },
  {
   "cell_type": "code",
   "execution_count": 8,
   "id": "349f0f56",
   "metadata": {},
   "outputs": [],
   "source": [
    "gex[\"tissue\"]=gex_extended[\"OncotreeLineage\"].values"
   ]
  },
  {
   "cell_type": "code",
   "execution_count": 9,
   "id": "cc5d4a00",
   "metadata": {},
   "outputs": [],
   "source": [
    "drugs = set(gdsc[\"DRUG_NAME\"].unique())"
   ]
  },
  {
   "cell_type": "code",
   "execution_count": 10,
   "id": "2409e153",
   "metadata": {},
   "outputs": [],
   "source": [
    "clines_gex = set(gex[\"SangerModelID\"].unique())\n",
    "genes_gex = gex.drop(columns={\"SangerModelID\",\"tissue\"}).columns\n",
    "\n",
    "training_sets_dict = {}\n",
    "\n",
    "for dname in drugs:\n",
    "    dresp_sub_df = gdsc[gdsc[\"DRUG_NAME\"] == dname]\n",
    "    clines_dresp = set(dresp_sub_df[\"SangerModelID\"].unique())\n",
    "    clines_to_keep = clines_dresp & clines_gex\n",
    "\n",
    "    if len(clines_to_keep) < 250:\n",
    "        continue\n",
    "\n",
    "    dresp_filtered = dresp_sub_df[dresp_sub_df[\"SangerModelID\"].isin(clines_to_keep)]\n",
    "    gex_filtered = gex[gex[\"SangerModelID\"].isin(clines_to_keep)]\n",
    "    \n",
    "    df = gex_filtered.merge(dresp_filtered, on=\"SangerModelID\", how=\"left\")\n",
    "    \n",
    "    # Select lineage with at least 10 cell lines\n",
    "    octype_counts = df[\"tissue\"].value_counts()\n",
    "    octype_counts = octype_counts[octype_counts > 10].index\n",
    "    df = df[df[\"tissue\"].isin(octype_counts)]\n",
    "\n",
    "    # retain HVF\n",
    "    X = df.loc[:, df.columns.isin(genes_gex)]\n",
    "    cv = np.std(X, axis=0)/np.mean(X, axis=0)\n",
    "    threshold = np.percentile(cv,90)\n",
    "    hvf = cv[cv > threshold].index\n",
    "    X_hvf = X.loc[:, X.columns.isin(hvf)]\n",
    "\n",
    "    # Save filtered dataset\n",
    "    training_sets_dict[dname] = {\n",
    "        \"OBS\": df[\"SangerModelID\"].reset_index(drop=True),\n",
    "        \"X\": X_hvf.reset_index(drop=True),  # Retaining only HVF genes\n",
    "        \"Y\": df[\"LN_IC50\"].reset_index(drop=True),\n",
    "        \"Metadata\": df[[\"tissue\", \"CELL_LINE_NAME\", \"PATHWAY_NAME\", \"COSMIC_ID\"]].reset_index(drop=True)\n",
    "    }\n"
   ]
  },
  {
   "cell_type": "code",
   "execution_count": 11,
   "id": "abb1b6c4",
   "metadata": {},
   "outputs": [],
   "source": [
    "with open(\"/group/iorio/Raffaele/SCDRESP_data/data/training_sets_dict_baseline.pkl\", \"wb\") as f:\n",
    "    pickle.dump(training_sets_dict, f)"
   ]
  },
  {
   "cell_type": "code",
   "execution_count": null,
   "id": "241728dd",
   "metadata": {},
   "outputs": [],
   "source": []
  },
  {
   "cell_type": "code",
   "execution_count": null,
   "id": "a7610be8",
   "metadata": {},
   "outputs": [],
   "source": []
  },
  {
   "cell_type": "code",
   "execution_count": null,
   "id": "6b63376d",
   "metadata": {},
   "outputs": [],
   "source": []
  },
  {
   "cell_type": "code",
   "execution_count": null,
   "id": "1d2720a0",
   "metadata": {},
   "outputs": [],
   "source": []
  },
  {
   "cell_type": "code",
   "execution_count": null,
   "id": "b40c913c",
   "metadata": {},
   "outputs": [],
   "source": []
  }
 ],
 "metadata": {
  "kernelspec": {
   "display_name": "Python [conda env:scanpy_backup_v2]",
   "language": "python",
   "name": "conda-env-scanpy_backup_v2-py"
  },
  "language_info": {
   "codemirror_mode": {
    "name": "ipython",
    "version": 3
   },
   "file_extension": ".py",
   "mimetype": "text/x-python",
   "name": "python",
   "nbconvert_exporter": "python",
   "pygments_lexer": "ipython3",
   "version": "3.10.10"
  }
 },
 "nbformat": 4,
 "nbformat_minor": 5
}
