{
 "cells": [
  {
   "cell_type": "code",
   "execution_count": 1,
   "id": "d130a200",
   "metadata": {},
   "outputs": [],
   "source": [
    "import pandas as pd \n",
    "import numpy as np\n",
    "import re\n",
    "import pickle"
   ]
  },
  {
   "cell_type": "code",
   "execution_count": 2,
   "id": "e0e9fe8d",
   "metadata": {},
   "outputs": [],
   "source": [
    "integrated = pd.read_csv(\"/group/iorio/Raffaele/SCDRESP_data/data/post_corrected_psclones.csv\", index_col=0)\n",
    "psclone_dresp = pd.read_csv(\"/group/iorio/Raffaele/SCDRESP_data/data/psclones_dresp_predictions_rep1.csv\", index_col=0)"
   ]
  },
  {
   "cell_type": "code",
   "execution_count": 3,
   "id": "c8ce096e",
   "metadata": {},
   "outputs": [],
   "source": [
    "gdsc=pd.read_excel(\"/group/iorio/Raffaele/SCDRESP_data/data/gdsc/GDSC2_fitted_dose_response.xlsx\")\n",
    "gdsc.rename(columns={\"SANGER_MODEL_ID\":\"SangerModelID\"},inplace=True)"
   ]
  },
  {
   "cell_type": "code",
   "execution_count": 4,
   "id": "6a106701",
   "metadata": {},
   "outputs": [],
   "source": [
    "drugs = pd.read_table(\"drugs_list.txt\",header=None)\n",
    "drugs = drugs[0].values"
   ]
  },
  {
   "cell_type": "code",
   "execution_count": 5,
   "id": "2bb0d95a",
   "metadata": {},
   "outputs": [],
   "source": [
    "gex_corrected = integrated[integrated[\"type\"] == \"bulk\"]\n",
    "gex_corrected = gex_corrected.drop(columns=\"type\").reset_index(drop=True)\n",
    "gex_corrected = gex_corrected.reset_index(drop=True)"
   ]
  },
  {
   "cell_type": "code",
   "execution_count": 6,
   "id": "f5784280",
   "metadata": {},
   "outputs": [],
   "source": [
    "clines_gex = set(gex_corrected[\"SangerModelID\"].unique())\n",
    "genes_gex = gex_corrected.drop(columns={\"SangerModelID\", \"tissue\"}).columns\n",
    "\n",
    "training_sets_dict = {}\n",
    "\n",
    "for dname in drugs:\n",
    "    dresp_sub_df = gdsc[gdsc[\"DRUG_NAME\"] == dname]\n",
    "    clines_dresp = set(dresp_sub_df[\"SangerModelID\"].unique())\n",
    "    clines_to_keep = clines_dresp & clines_gex\n",
    "\n",
    "    if len(clines_to_keep) < 250:\n",
    "        continue\n",
    "\n",
    "    dresp_filtered = dresp_sub_df[dresp_sub_df[\"SangerModelID\"].isin(clines_to_keep)]\n",
    "    gex_filtered = gex_corrected[gex_corrected[\"SangerModelID\"].isin(clines_to_keep)]\n",
    "    \n",
    "    df = gex_filtered.merge(dresp_filtered, on=\"SangerModelID\", how=\"left\")\n",
    "    \n",
    "    # Select lineage with at least 10 cell lines\n",
    "    octype_counts = df[\"tissue\"].value_counts()\n",
    "    octype_counts = octype_counts[octype_counts > 10].index\n",
    "    df = df[df[\"tissue\"].isin(octype_counts)]\n",
    "\n",
    "    X = df.loc[:, df.columns.isin(genes_gex)]\n",
    "\n",
    "    # Save filtered dataset\n",
    "    training_sets_dict[dname] = {\n",
    "        \"OBS\": df[\"SangerModelID\"].reset_index(drop=True),\n",
    "        \"X\": X.reset_index(drop=True),  # Retaining only HVF genes\n",
    "        \"Y\": df[\"LN_IC50\"].reset_index(drop=True),\n",
    "        \"Metadata\": df[[\"tissue\", \"CELL_LINE_NAME\", \"PATHWAY_NAME\", \"COSMIC_ID\"]].reset_index(drop=True)\n",
    "    }"
   ]
  },
  {
   "cell_type": "code",
   "execution_count": 7,
   "id": "5dd65456",
   "metadata": {},
   "outputs": [],
   "source": [
    "genes_gex = integrated.drop(columns={\"SangerModelID\", \"tissue\",\"type\"}).columns"
   ]
  },
  {
   "cell_type": "code",
   "execution_count": 8,
   "id": "71887416",
   "metadata": {},
   "outputs": [],
   "source": [
    "# create concatenated datasets ready for ML(bulk + clones)\n",
    "\n",
    "training_sets_dict_pclone = dict()\n",
    "\n",
    "# retain HVF for integrated dataset\n",
    "X = integrated.loc[:, integrated.columns.isin(genes_gex)]\n",
    "cv = np.std(X, axis=0)/np.mean(X, axis=0)\n",
    "threshold = np.percentile(cv,90)\n",
    "hvf = cv[cv > threshold].index\n",
    "X_hvf = X.loc[:, X.columns.isin(hvf)]\n",
    "    \n",
    "for k, v in training_sets_dict.items():\n",
    "    \n",
    "    y_bulk = training_sets_dict[k][\"Y\"]\n",
    "    obs_bulk = training_sets_dict[k][\"OBS\"]\n",
    "    X_bulk = training_sets_dict[k][\"X\"]\n",
    "    \n",
    "    y_pclone = psclone_dresp[k]\n",
    "    obs_pclone = psclone_dresp[\"SangerModelID\"]\n",
    "    X_pclone = X_hvf.loc[0:191,:].reset_index(drop=True) # 0:191, significa prendere solo gli pseudclones \n",
    "  \n",
    "    X_concatenated = pd.concat([X_pclone, X_bulk.loc[:,X_bulk.columns.isin(hvf)]]).reset_index(drop=True)\n",
    "    \n",
    "    training_sets_dict_pclone[k]= {\n",
    "        \"OBS\":pd.concat([obs_pclone, obs_bulk]).reset_index(drop=True),\n",
    "        \"X\":X_concatenated,\n",
    "        \"Y\":pd.concat([y_pclone, y_bulk]).reset_index(drop=True)\n",
    "    }"
   ]
  },
  {
   "cell_type": "code",
   "execution_count": 10,
   "id": "ba8af531",
   "metadata": {},
   "outputs": [],
   "source": [
    "with open(\"/group/iorio/Raffaele/SCDRESP_data/data/training_sets_dict_psclone.pkl\", \"wb\") as f:\n",
    "    pickle.dump(training_sets_dict_pclone, f)"
   ]
  },
  {
   "cell_type": "code",
   "execution_count": null,
   "id": "a7f99dd9",
   "metadata": {},
   "outputs": [],
   "source": []
  },
  {
   "cell_type": "code",
   "execution_count": null,
   "id": "5bc3d5ff",
   "metadata": {},
   "outputs": [],
   "source": []
  },
  {
   "cell_type": "code",
   "execution_count": null,
   "id": "892cffb8",
   "metadata": {},
   "outputs": [],
   "source": []
  },
  {
   "cell_type": "code",
   "execution_count": null,
   "id": "1e2f76b2",
   "metadata": {},
   "outputs": [],
   "source": []
  },
  {
   "cell_type": "code",
   "execution_count": null,
   "id": "2847bdec",
   "metadata": {},
   "outputs": [],
   "source": []
  },
  {
   "cell_type": "code",
   "execution_count": null,
   "id": "14775348",
   "metadata": {},
   "outputs": [],
   "source": []
  },
  {
   "cell_type": "code",
   "execution_count": null,
   "id": "eace8969",
   "metadata": {},
   "outputs": [],
   "source": []
  },
  {
   "cell_type": "code",
   "execution_count": null,
   "id": "13748096",
   "metadata": {},
   "outputs": [],
   "source": []
  },
  {
   "cell_type": "code",
   "execution_count": null,
   "id": "b75d3c86",
   "metadata": {},
   "outputs": [],
   "source": []
  },
  {
   "cell_type": "code",
   "execution_count": null,
   "id": "e3d25da8",
   "metadata": {},
   "outputs": [],
   "source": []
  },
  {
   "cell_type": "code",
   "execution_count": null,
   "id": "8443b40f",
   "metadata": {},
   "outputs": [],
   "source": []
  },
  {
   "cell_type": "code",
   "execution_count": null,
   "id": "82c0c16e",
   "metadata": {},
   "outputs": [],
   "source": []
  },
  {
   "cell_type": "code",
   "execution_count": null,
   "id": "f937c3e7",
   "metadata": {},
   "outputs": [],
   "source": []
  },
  {
   "cell_type": "code",
   "execution_count": null,
   "id": "97482ebf",
   "metadata": {},
   "outputs": [],
   "source": []
  },
  {
   "cell_type": "code",
   "execution_count": null,
   "id": "e1fcaf52",
   "metadata": {},
   "outputs": [],
   "source": []
  },
  {
   "cell_type": "code",
   "execution_count": null,
   "id": "c5fd92de",
   "metadata": {},
   "outputs": [],
   "source": []
  }
 ],
 "metadata": {
  "kernelspec": {
   "display_name": "Python [conda env:scanpy_backup_v2]",
   "language": "python",
   "name": "conda-env-scanpy_backup_v2-py"
  },
  "language_info": {
   "codemirror_mode": {
    "name": "ipython",
    "version": 3
   },
   "file_extension": ".py",
   "mimetype": "text/x-python",
   "name": "python",
   "nbconvert_exporter": "python",
   "pygments_lexer": "ipython3",
   "version": "3.10.10"
  }
 },
 "nbformat": 4,
 "nbformat_minor": 5
}
